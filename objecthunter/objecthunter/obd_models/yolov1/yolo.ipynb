{
  "cells": [
    {
      "cell_type": "markdown",
      "metadata": {
        "id": "view-in-github",
        "colab_type": "text"
      },
      "source": [
        "<a href=\"https://colab.research.google.com/github/Nifdi01/object-hunter/blob/main/objecthunter/objecthunter/obd_models/yolov1/yolo.ipynb\" target=\"_parent\"><img src=\"https://colab.research.google.com/assets/colab-badge.svg\" alt=\"Open In Colab\"/></a>"
      ]
    },
    {
      "cell_type": "markdown",
      "metadata": {
        "id": "RW2VjhJMjSwg"
      },
      "source": [
        "# Implementation of YOLOv1 Architecture in PyTorch"
      ]
    },
    {
      "cell_type": "markdown",
      "metadata": {
        "id": "6gB5pFHLjSwi"
      },
      "source": [
        "## Architecture Implementation\n",
        "We will start by implementing the architecture of the YOLO mode from the [You Only Look Once](https://arxiv.org/abs/1506.02640) paper."
      ]
    },
    {
      "cell_type": "code",
      "execution_count": 1,
      "metadata": {
        "id": "5FNhjBicjSwi"
      },
      "outputs": [],
      "source": [
        "import torch\n",
        "import torch.nn as nn\n",
        "\n",
        "architecture_config = [\n",
        "    # (kernel_size, input_channels, stride, padding)\n",
        "    # \"M\" is max pool\n",
        "    # This is a mix of Conv and MaxPool layers\n",
        "    (7, 64, 2, 3),\n",
        "    \"M\",\n",
        "    (3, 192, 1, 1),\n",
        "    \"M\",\n",
        "    (1, 128, 1, 0),\n",
        "    (3, 256, 1, 1),\n",
        "    (1, 256, 1, 0),\n",
        "    (3, 512, 1, 1),\n",
        "    \"M\",\n",
        "    # list with two conv_configs and the last digit (4) is the number of repititions of this layer\n",
        "    [(1, 256, 1, 0), (3, 512, 1, 1), 4],\n",
        "    (1, 512, 1, 0),\n",
        "    (3, 1024, 1, 1),\n",
        "    \"M\",\n",
        "    [(1, 512, 1, 0), (3, 1024, 1, 1), 2],\n",
        "    (3, 1024, 1, 1),\n",
        "    (3, 1024, 2, 1),\n",
        "    (3, 1024, 1, 1),\n",
        "    (3, 1024, 1, 1)\n",
        "]"
      ]
    },
    {
      "cell_type": "code",
      "execution_count": 2,
      "metadata": {
        "id": "c0_UyGfRjSwj"
      },
      "outputs": [],
      "source": [
        "class CNNBlock(nn.Module):\n",
        "    \"\"\"\n",
        "    Convolutional Block that will serve as the building block for the YOLO Architecture.\n",
        "    Inputs:\n",
        "    in_channels: inputs\n",
        "    out_channels: outputs\n",
        "\n",
        "    Outputs:\n",
        "    Forward propogation for leakyrelu(batchnorm(conv(x))) where x is our input\n",
        "    \"\"\"\n",
        "\n",
        "    def __init__(self, in_channels, out_channels, **kwargs):\n",
        "        super(CNNBlock, self).__init__()\n",
        "        # Creates 2D Convolutional Layers\n",
        "        self.conv = nn.Conv2d(in_channels, out_channels, bias=False, **kwargs)\n",
        "        # Batch Normalization normalizes intermediate outputs; thus, making optimization faster and more stable\n",
        "        self.batchnorm = nn.BatchNorm2d(out_channels)\n",
        "        # As stated in the paper, we sill use Leaky ReLU with 0.1 slope\n",
        "        self.leakyrelu = nn.LeakyReLU(0.1)\n",
        "\n",
        "    def forward(self, x):\n",
        "        return self.leakyrelu(self.batchnorm(self.conv(x)))"
      ]
    },
    {
      "cell_type": "code",
      "execution_count": 3,
      "metadata": {
        "id": "DKhtLW3bjSwk"
      },
      "outputs": [],
      "source": [
        "class YOLOv1(nn.Module):\n",
        "    \"\"\"\n",
        "    Main engine class for YOLOv1. It will have everything needed for building the YOLOv1 model architecture.\n",
        "\n",
        "    Inputs:\n",
        "    in_channels: default is 3 in case we are using RGB images\n",
        "\n",
        "    Outputs:\n",
        "    Forward propogation for YOLOv1 architecture\n",
        "    \"\"\"\n",
        "\n",
        "    def __init__(self, in_channels=3, **kwargs):\n",
        "        super(YOLOv1, self).__init__()\n",
        "        # We get the architecture configurations from the above\n",
        "        self.architecture = architecture_config\n",
        "        # We take the inputs\n",
        "        self.in_channels = in_channels\n",
        "        # The paper uses Darknet Framework by J. Redmon as the hidden layer architecture\n",
        "        self.darknet = self.create_conv_layers(self.architecture)\n",
        "        # The model should end with a fully-connected layer\n",
        "        self.fully_connected_layer = self.create_fc_layer(**kwargs)\n",
        "\n",
        "    def forward(self, x):\n",
        "        x = self.darknet(x)\n",
        "        # We flatten the Conv layer by dim=1 to flatten the number of classes\n",
        "        return self.fully_connected_layer(torch.flatten(x, start_dim=1))\n",
        "\n",
        "    # Implementation of darknet\n",
        "    def create_conv_layers(self, architecture):\n",
        "        # We will put layers into a list\n",
        "        layers = []\n",
        "        in_channels = self.in_channels\n",
        "\n",
        "        # We traverse through the architecture\n",
        "        for x in architecture:\n",
        "            if type(x) == tuple:\n",
        "                layers += [CNNBlock(in_channels, x[1],\n",
        "                                    kernel_size=x[0],\n",
        "                                    stride=x[2],\n",
        "                                    padding=x[3])]\n",
        "                in_channels=x[1]\n",
        "\n",
        "            elif type(x) == str:\n",
        "                layers += [nn.MaxPool2d(kernel_size=2, stride=2)]\n",
        "\n",
        "            elif type(x) == list:\n",
        "                conv1 = x[0]\n",
        "                conv2 = x[1]\n",
        "                loop_size = x[2]\n",
        "\n",
        "                for _ in range(loop_size):\n",
        "                    layers += [CNNBlock(in_channels,\n",
        "                                        conv1[1],\n",
        "                                        kernel_size=conv1[0],\n",
        "                                        stride=conv1[2],\n",
        "                                        padding=conv1[3])]\n",
        "\n",
        "                    # The input for the following block is the output of the previous one. Therefore in_channels for the below layer is conv1[1]\n",
        "                    layers += [CNNBlock(conv1[1],\n",
        "                                        conv2[1],\n",
        "                                        kernel_size=conv2[0],\n",
        "                                        stride=conv2[2],\n",
        "                                        padding=conv2[3])]\n",
        "                    # Output of this conv2 layer is going to be input of the conv1 for the following repition\n",
        "                    in_channels = conv2[1]\n",
        "\n",
        "            # We unpack the list and convert it to nn.Sequential\n",
        "            return nn.Sequential(*layers)\n",
        "\n",
        "    # Implementation of Fully Connected Layer\n",
        "    def create_fc_layer(self, split_size, num_boxes, num_classes):\n",
        "        S, B, C = split_size, num_boxes, num_classes\n",
        "        return nn.Sequential(\n",
        "            nn.Flatten(),\n",
        "            nn.Linear(1024 * S * S, 496),\n",
        "            nn.Dropout(0.0),\n",
        "            nn.LeakyReLU(0.1),\n",
        "            nn.Linear(496, S * S * (C + B * 5)),\n",
        "        )"
      ]
    },
    {
      "cell_type": "code",
      "source": [
        "import torch\n",
        "import torch.nn as nn\n",
        "\n",
        "architecture_config = [\n",
        "    # tuple = (kernel size, number of filters of output, stride, padding)\n",
        "    (7, 64, 2, 3),\n",
        "    \"M\",  # max-pooling 2x2 stride = 2\n",
        "    (3, 192, 1, 1),\n",
        "    \"M\",  # max-pooling 2x2 stride = 2\n",
        "    (1, 128, 1, 0),\n",
        "    (3, 256, 1, 1),\n",
        "    (1, 256, 1, 0),\n",
        "    (3, 512, 1, 1),\n",
        "    \"M\",  # max-pooling 2x2 stride = 2\n",
        "    # [tuple, tuple, repeat times]\n",
        "    [(1, 256, 1, 0), (3, 512, 1, 1), 4],\n",
        "    (1, 512, 1, 0),\n",
        "    (3, 1024, 1, 1),\n",
        "    \"M\",  # max-pooling 2x2 stride = 2\n",
        "    # [tuple, tuple, repeat times]\n",
        "    [(1, 512, 1, 0), (3, 1024, 1, 1), 2],\n",
        "    (3, 1024, 1, 1),\n",
        "    (3, 1024, 2, 1),\n",
        "    (3, 1024, 1, 1),\n",
        "    (3, 1024, 1, 1),\n",
        "]\n",
        "\n",
        "\n",
        "class CNNBlock(nn.Module):\n",
        "    def __init__(self, in_channels, out_channels, **kwargs):\n",
        "        super(CNNBlock, self).__init__()\n",
        "        self.conv = nn.Conv2d(in_channels, out_channels, bias=False, **kwargs)\n",
        "        self.batchnorm = nn.BatchNorm2d(out_channels)\n",
        "        self.leakyrelu = nn.LeakyReLU(0.1)\n",
        "\n",
        "    def forward(self, x):\n",
        "        x = self.conv(x)\n",
        "        x = self.batchnorm(x)\n",
        "        x = self.leakyrelu(x)\n",
        "        return x\n",
        "\n",
        "\n",
        "class Yolov1(nn.Module):\n",
        "    def __init__(self, in_channels=3, **kwargs):\n",
        "        super(Yolov1, self).__init__()\n",
        "        self.architecture = architecture_config\n",
        "        self.in_channels = in_channels\n",
        "        self.darknet = self._create_conv_layers(self.architecture)\n",
        "        self.fcs = self._create_fcs(**kwargs)\n",
        "\n",
        "    def forward(self, x):\n",
        "        x = self.darknet(x)\n",
        "        x = torch.flatten(x, start_dim=1)\n",
        "        x = self.fcs(x)\n",
        "        return x\n",
        "\n",
        "    def _create_conv_layers(self, architecture):\n",
        "        layers = []\n",
        "        in_channels = self.in_channels\n",
        "\n",
        "        for x in architecture:\n",
        "            if type(x) == tuple:\n",
        "                layers += [\n",
        "                    CNNBlock(\n",
        "                        in_channels, x[1], kernel_size=x[0], stride=x[2], padding=x[3],\n",
        "                    )\n",
        "                ]\n",
        "\n",
        "                in_channels = x[1]\n",
        "\n",
        "            elif type(x) == str:\n",
        "                layers += [nn.MaxPool2d(kernel_size=2, stride=2)]\n",
        "\n",
        "            elif type(x) == list:\n",
        "                conv1 = x[0]  # tuple\n",
        "                conv2 = x[1]  # tuple\n",
        "                num_repeats = x[2]  # integer\n",
        "\n",
        "                for _ in range(num_repeats):\n",
        "                    layers += [\n",
        "                        CNNBlock(\n",
        "                            in_channels,\n",
        "                            conv1[1],\n",
        "                            kernel_size=conv1[0],\n",
        "                            stride=conv1[2],\n",
        "                            padding=conv1[3],\n",
        "                        )\n",
        "                    ]\n",
        "\n",
        "                    layers += [\n",
        "                        CNNBlock(\n",
        "                            conv1[1],\n",
        "                            conv2[1],\n",
        "                            kernel_size=conv2[0],\n",
        "                            stride=conv2[2],\n",
        "                            padding=conv2[3],\n",
        "                        )\n",
        "                    ]\n",
        "\n",
        "                    in_channels = conv2[1]\n",
        "\n",
        "        return nn.Sequential(*layers)\n",
        "\n",
        "    def _create_fcs(self, split_size, num_boxes, num_classes):\n",
        "        S, B, C = split_size, num_boxes, num_classes\n",
        "        return nn.Sequential(\n",
        "            nn.Flatten(),\n",
        "            nn.Linear(1024*S*S, 4096),\n",
        "            nn.Dropout(0.5),\n",
        "            nn.LeakyReLU(0.1),\n",
        "            nn.Linear(4096, S*S*(C+B*5)),  # (S,S,30)\n",
        "        )\n"
      ],
      "metadata": {
        "id": "gIbHzB3UOG5I"
      },
      "execution_count": 3,
      "outputs": []
    },
    {
      "cell_type": "code",
      "execution_count": 4,
      "metadata": {
        "id": "P2_XCPT3jSwk",
        "outputId": "eb0324da-f7a1-40fc-e2c1-8b0799abb8c1",
        "colab": {
          "base_uri": "https://localhost:8080/"
        }
      },
      "outputs": [
        {
          "output_type": "stream",
          "name": "stdout",
          "text": [
            "torch.Size([2, 1470])\n"
          ]
        }
      ],
      "source": [
        "def test(S=7, B=2, C=20):\n",
        "    model = Yolov1(split_size=S, num_boxes=B, num_classes=C)\n",
        "    x = torch.randn((2, 3, 448, 448))\n",
        "    print(model(x).shape)\n",
        "\n",
        "test()"
      ]
    },
    {
      "cell_type": "code",
      "source": [],
      "metadata": {
        "id": "4iGW8Z2fGpR5"
      },
      "execution_count": null,
      "outputs": []
    }
  ],
  "metadata": {
    "kernelspec": {
      "display_name": "Python 3",
      "name": "python3"
    },
    "language_info": {
      "codemirror_mode": {
        "name": "ipython",
        "version": 3
      },
      "file_extension": ".py",
      "mimetype": "text/x-python",
      "name": "python",
      "nbconvert_exporter": "python",
      "pygments_lexer": "ipython3",
      "version": "3.9.13"
    },
    "orig_nbformat": 4,
    "colab": {
      "provenance": [],
      "include_colab_link": true
    }
  },
  "nbformat": 4,
  "nbformat_minor": 0
}